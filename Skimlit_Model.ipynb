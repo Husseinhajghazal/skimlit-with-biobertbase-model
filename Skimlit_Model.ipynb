{
  "cells": [
    {
      "cell_type": "markdown",
      "metadata": {
        "id": "orF0P1t1x-QO"
      },
      "source": [
        "# Optimized Skimlit Model\n",
        "\n",
        "This notebook implements an optimized version of the Skimlit model for classifying segments of scientific paper abstracts. It uses BioBERT for biomedical text processing, efficient `tf.data` pipelines, mixed precision training, a learning rate schedule with warmup, and comprehensive evaluation metrics and visualizations."
      ]
    },
    {
      "cell_type": "markdown",
      "source": [
        "# Check GPU availability"
      ],
      "metadata": {
        "id": "CkoIyBNN3Ylq"
      }
    },
    {
      "cell_type": "code",
      "execution_count": null,
      "metadata": {
        "id": "Bdg7_8adx-QR",
        "colab": {
          "base_uri": "https://localhost:8080/"
        },
        "outputId": "58e4d9b4-02e9-4957-d3b8-422597f8a433"
      },
      "outputs": [
        {
          "output_type": "stream",
          "name": "stdout",
          "text": [
            "Thu May 15 06:55:54 2025       \n",
            "+-----------------------------------------------------------------------------------------+\n",
            "| NVIDIA-SMI 550.54.15              Driver Version: 550.54.15      CUDA Version: 12.4     |\n",
            "|-----------------------------------------+------------------------+----------------------+\n",
            "| GPU  Name                 Persistence-M | Bus-Id          Disp.A | Volatile Uncorr. ECC |\n",
            "| Fan  Temp   Perf          Pwr:Usage/Cap |           Memory-Usage | GPU-Util  Compute M. |\n",
            "|                                         |                        |               MIG M. |\n",
            "|=========================================+========================+======================|\n",
            "|   0  NVIDIA L4                      Off |   00000000:00:03.0 Off |                    0 |\n",
            "| N/A   40C    P8             11W /   72W |       0MiB /  23034MiB |      0%      Default |\n",
            "|                                         |                        |                  N/A |\n",
            "+-----------------------------------------+------------------------+----------------------+\n",
            "                                                                                         \n",
            "+-----------------------------------------------------------------------------------------+\n",
            "| Processes:                                                                              |\n",
            "|  GPU   GI   CI        PID   Type   Process name                              GPU Memory |\n",
            "|        ID   ID                                                               Usage      |\n",
            "|=========================================================================================|\n",
            "|  No running processes found                                                             |\n",
            "+-----------------------------------------------------------------------------------------+\n"
          ]
        }
      ],
      "source": [
        "!nvidia-smi"
      ]
    },
    {
      "cell_type": "markdown",
      "source": [
        "# Check available RAM"
      ],
      "metadata": {
        "id": "2Ay3w-5N3dzI"
      }
    },
    {
      "cell_type": "code",
      "source": [
        "from psutil import virtual_memory\n",
        "ram_gb = virtual_memory().total / 1e9\n",
        "print(f'Available RAM: {ram_gb:.1f} GB')\n",
        "print('High-RAM runtime!' if ram_gb >= 20 else 'Not using a high-RAM runtime.')"
      ],
      "metadata": {
        "colab": {
          "base_uri": "https://localhost:8080/"
        },
        "id": "tqvfrtEu3ckk",
        "outputId": "a371a115-e516-46f5-bbfa-71e8e43b82a9"
      },
      "execution_count": null,
      "outputs": [
        {
          "output_type": "stream",
          "name": "stdout",
          "text": [
            "Available RAM: 56.9 GB\n",
            "High-RAM runtime!\n"
          ]
        }
      ]
    },
    {
      "cell_type": "markdown",
      "source": [
        "# Install required packages"
      ],
      "metadata": {
        "id": "1uFV5XnJ3fPd"
      }
    },
    {
      "cell_type": "code",
      "execution_count": null,
      "metadata": {
        "id": "NTURpqO7x-QT",
        "colab": {
          "base_uri": "https://localhost:8080/"
        },
        "outputId": "5bff9116-7ebd-4648-f3f3-03dc232dfb98"
      },
      "outputs": [
        {
          "output_type": "stream",
          "name": "stdout",
          "text": [
            "Requirement already satisfied: tensorflow in /usr/local/lib/python3.11/dist-packages (2.18.0)\n",
            "Requirement already satisfied: absl-py>=1.0.0 in /usr/local/lib/python3.11/dist-packages (from tensorflow) (1.4.0)\n",
            "Requirement already satisfied: astunparse>=1.6.0 in /usr/local/lib/python3.11/dist-packages (from tensorflow) (1.6.3)\n",
            "Requirement already satisfied: flatbuffers>=24.3.25 in /usr/local/lib/python3.11/dist-packages (from tensorflow) (25.2.10)\n",
            "Requirement already satisfied: gast!=0.5.0,!=0.5.1,!=0.5.2,>=0.2.1 in /usr/local/lib/python3.11/dist-packages (from tensorflow) (0.6.0)\n",
            "Requirement already satisfied: google-pasta>=0.1.1 in /usr/local/lib/python3.11/dist-packages (from tensorflow) (0.2.0)\n",
            "Requirement already satisfied: libclang>=13.0.0 in /usr/local/lib/python3.11/dist-packages (from tensorflow) (18.1.1)\n",
            "Requirement already satisfied: opt-einsum>=2.3.2 in /usr/local/lib/python3.11/dist-packages (from tensorflow) (3.4.0)\n",
            "Requirement already satisfied: packaging in /usr/local/lib/python3.11/dist-packages (from tensorflow) (24.2)\n",
            "Requirement already satisfied: protobuf!=4.21.0,!=4.21.1,!=4.21.2,!=4.21.3,!=4.21.4,!=4.21.5,<6.0.0dev,>=3.20.3 in /usr/local/lib/python3.11/dist-packages (from tensorflow) (5.29.4)\n",
            "Requirement already satisfied: requests<3,>=2.21.0 in /usr/local/lib/python3.11/dist-packages (from tensorflow) (2.32.3)\n",
            "Requirement already satisfied: setuptools in /usr/local/lib/python3.11/dist-packages (from tensorflow) (75.2.0)\n",
            "Requirement already satisfied: six>=1.12.0 in /usr/local/lib/python3.11/dist-packages (from tensorflow) (1.17.0)\n",
            "Requirement already satisfied: termcolor>=1.1.0 in /usr/local/lib/python3.11/dist-packages (from tensorflow) (3.1.0)\n",
            "Requirement already satisfied: typing-extensions>=3.6.6 in /usr/local/lib/python3.11/dist-packages (from tensorflow) (4.13.2)\n",
            "Requirement already satisfied: wrapt>=1.11.0 in /usr/local/lib/python3.11/dist-packages (from tensorflow) (1.17.2)\n",
            "Requirement already satisfied: grpcio<2.0,>=1.24.3 in /usr/local/lib/python3.11/dist-packages (from tensorflow) (1.71.0)\n",
            "Requirement already satisfied: tensorboard<2.19,>=2.18 in /usr/local/lib/python3.11/dist-packages (from tensorflow) (2.18.0)\n",
            "Requirement already satisfied: keras>=3.5.0 in /usr/local/lib/python3.11/dist-packages (from tensorflow) (3.8.0)\n",
            "Requirement already satisfied: numpy<2.1.0,>=1.26.0 in /usr/local/lib/python3.11/dist-packages (from tensorflow) (2.0.2)\n",
            "Requirement already satisfied: h5py>=3.11.0 in /usr/local/lib/python3.11/dist-packages (from tensorflow) (3.13.0)\n",
            "Requirement already satisfied: ml-dtypes<0.5.0,>=0.4.0 in /usr/local/lib/python3.11/dist-packages (from tensorflow) (0.4.1)\n",
            "Requirement already satisfied: tensorflow-io-gcs-filesystem>=0.23.1 in /usr/local/lib/python3.11/dist-packages (from tensorflow) (0.37.1)\n",
            "Requirement already satisfied: wheel<1.0,>=0.23.0 in /usr/local/lib/python3.11/dist-packages (from astunparse>=1.6.0->tensorflow) (0.45.1)\n",
            "Requirement already satisfied: rich in /usr/local/lib/python3.11/dist-packages (from keras>=3.5.0->tensorflow) (13.9.4)\n",
            "Requirement already satisfied: namex in /usr/local/lib/python3.11/dist-packages (from keras>=3.5.0->tensorflow) (0.0.9)\n",
            "Requirement already satisfied: optree in /usr/local/lib/python3.11/dist-packages (from keras>=3.5.0->tensorflow) (0.15.0)\n",
            "Requirement already satisfied: charset-normalizer<4,>=2 in /usr/local/lib/python3.11/dist-packages (from requests<3,>=2.21.0->tensorflow) (3.4.2)\n",
            "Requirement already satisfied: idna<4,>=2.5 in /usr/local/lib/python3.11/dist-packages (from requests<3,>=2.21.0->tensorflow) (3.10)\n",
            "Requirement already satisfied: urllib3<3,>=1.21.1 in /usr/local/lib/python3.11/dist-packages (from requests<3,>=2.21.0->tensorflow) (2.4.0)\n",
            "Requirement already satisfied: certifi>=2017.4.17 in /usr/local/lib/python3.11/dist-packages (from requests<3,>=2.21.0->tensorflow) (2025.4.26)\n",
            "Requirement already satisfied: markdown>=2.6.8 in /usr/local/lib/python3.11/dist-packages (from tensorboard<2.19,>=2.18->tensorflow) (3.8)\n",
            "Requirement already satisfied: tensorboard-data-server<0.8.0,>=0.7.0 in /usr/local/lib/python3.11/dist-packages (from tensorboard<2.19,>=2.18->tensorflow) (0.7.2)\n",
            "Requirement already satisfied: werkzeug>=1.0.1 in /usr/local/lib/python3.11/dist-packages (from tensorboard<2.19,>=2.18->tensorflow) (3.1.3)\n",
            "Requirement already satisfied: MarkupSafe>=2.1.1 in /usr/local/lib/python3.11/dist-packages (from werkzeug>=1.0.1->tensorboard<2.19,>=2.18->tensorflow) (3.0.2)\n",
            "Requirement already satisfied: markdown-it-py>=2.2.0 in /usr/local/lib/python3.11/dist-packages (from rich->keras>=3.5.0->tensorflow) (3.0.0)\n",
            "Requirement already satisfied: pygments<3.0.0,>=2.13.0 in /usr/local/lib/python3.11/dist-packages (from rich->keras>=3.5.0->tensorflow) (2.19.1)\n",
            "Requirement already satisfied: mdurl~=0.1 in /usr/local/lib/python3.11/dist-packages (from markdown-it-py>=2.2.0->rich->keras>=3.5.0->tensorflow) (0.1.2)\n",
            "Requirement already satisfied: transformers in /usr/local/lib/python3.11/dist-packages (4.51.3)\n",
            "Requirement already satisfied: filelock in /usr/local/lib/python3.11/dist-packages (from transformers) (3.18.0)\n",
            "Requirement already satisfied: huggingface-hub<1.0,>=0.30.0 in /usr/local/lib/python3.11/dist-packages (from transformers) (0.31.1)\n",
            "Requirement already satisfied: numpy>=1.17 in /usr/local/lib/python3.11/dist-packages (from transformers) (2.0.2)\n",
            "Requirement already satisfied: packaging>=20.0 in /usr/local/lib/python3.11/dist-packages (from transformers) (24.2)\n",
            "Requirement already satisfied: pyyaml>=5.1 in /usr/local/lib/python3.11/dist-packages (from transformers) (6.0.2)\n",
            "Requirement already satisfied: regex!=2019.12.17 in /usr/local/lib/python3.11/dist-packages (from transformers) (2024.11.6)\n",
            "Requirement already satisfied: requests in /usr/local/lib/python3.11/dist-packages (from transformers) (2.32.3)\n",
            "Requirement already satisfied: tokenizers<0.22,>=0.21 in /usr/local/lib/python3.11/dist-packages (from transformers) (0.21.1)\n",
            "Requirement already satisfied: safetensors>=0.4.3 in /usr/local/lib/python3.11/dist-packages (from transformers) (0.5.3)\n",
            "Requirement already satisfied: tqdm>=4.27 in /usr/local/lib/python3.11/dist-packages (from transformers) (4.67.1)\n",
            "Requirement already satisfied: fsspec>=2023.5.0 in /usr/local/lib/python3.11/dist-packages (from huggingface-hub<1.0,>=0.30.0->transformers) (2025.3.2)\n",
            "Requirement already satisfied: typing-extensions>=3.7.4.3 in /usr/local/lib/python3.11/dist-packages (from huggingface-hub<1.0,>=0.30.0->transformers) (4.13.2)\n",
            "Requirement already satisfied: hf-xet<2.0.0,>=1.1.0 in /usr/local/lib/python3.11/dist-packages (from huggingface-hub<1.0,>=0.30.0->transformers) (1.1.0)\n",
            "Requirement already satisfied: charset-normalizer<4,>=2 in /usr/local/lib/python3.11/dist-packages (from requests->transformers) (3.4.2)\n",
            "Requirement already satisfied: idna<4,>=2.5 in /usr/local/lib/python3.11/dist-packages (from requests->transformers) (3.10)\n",
            "Requirement already satisfied: urllib3<3,>=1.21.1 in /usr/local/lib/python3.11/dist-packages (from requests->transformers) (2.4.0)\n",
            "Requirement already satisfied: certifi>=2017.4.17 in /usr/local/lib/python3.11/dist-packages (from requests->transformers) (2025.4.26)\n",
            "Requirement already satisfied: scikit-learn in /usr/local/lib/python3.11/dist-packages (1.6.1)\n",
            "Requirement already satisfied: numpy>=1.19.5 in /usr/local/lib/python3.11/dist-packages (from scikit-learn) (2.0.2)\n",
            "Requirement already satisfied: scipy>=1.6.0 in /usr/local/lib/python3.11/dist-packages (from scikit-learn) (1.15.3)\n",
            "Requirement already satisfied: joblib>=1.2.0 in /usr/local/lib/python3.11/dist-packages (from scikit-learn) (1.5.0)\n",
            "Requirement already satisfied: threadpoolctl>=3.1.0 in /usr/local/lib/python3.11/dist-packages (from scikit-learn) (3.6.0)\n",
            "Requirement already satisfied: matplotlib in /usr/local/lib/python3.11/dist-packages (3.10.0)\n",
            "Requirement already satisfied: contourpy>=1.0.1 in /usr/local/lib/python3.11/dist-packages (from matplotlib) (1.3.2)\n",
            "Requirement already satisfied: cycler>=0.10 in /usr/local/lib/python3.11/dist-packages (from matplotlib) (0.12.1)\n",
            "Requirement already satisfied: fonttools>=4.22.0 in /usr/local/lib/python3.11/dist-packages (from matplotlib) (4.57.0)\n",
            "Requirement already satisfied: kiwisolver>=1.3.1 in /usr/local/lib/python3.11/dist-packages (from matplotlib) (1.4.8)\n",
            "Requirement already satisfied: numpy>=1.23 in /usr/local/lib/python3.11/dist-packages (from matplotlib) (2.0.2)\n",
            "Requirement already satisfied: packaging>=20.0 in /usr/local/lib/python3.11/dist-packages (from matplotlib) (24.2)\n",
            "Requirement already satisfied: pillow>=8 in /usr/local/lib/python3.11/dist-packages (from matplotlib) (11.2.1)\n",
            "Requirement already satisfied: pyparsing>=2.3.1 in /usr/local/lib/python3.11/dist-packages (from matplotlib) (3.2.3)\n",
            "Requirement already satisfied: python-dateutil>=2.7 in /usr/local/lib/python3.11/dist-packages (from matplotlib) (2.9.0.post0)\n",
            "Requirement already satisfied: six>=1.5 in /usr/local/lib/python3.11/dist-packages (from python-dateutil>=2.7->matplotlib) (1.17.0)\n",
            "Requirement already satisfied: seaborn in /usr/local/lib/python3.11/dist-packages (0.13.2)\n",
            "Requirement already satisfied: numpy!=1.24.0,>=1.20 in /usr/local/lib/python3.11/dist-packages (from seaborn) (2.0.2)\n",
            "Requirement already satisfied: pandas>=1.2 in /usr/local/lib/python3.11/dist-packages (from seaborn) (2.2.2)\n",
            "Requirement already satisfied: matplotlib!=3.6.1,>=3.4 in /usr/local/lib/python3.11/dist-packages (from seaborn) (3.10.0)\n",
            "Requirement already satisfied: contourpy>=1.0.1 in /usr/local/lib/python3.11/dist-packages (from matplotlib!=3.6.1,>=3.4->seaborn) (1.3.2)\n",
            "Requirement already satisfied: cycler>=0.10 in /usr/local/lib/python3.11/dist-packages (from matplotlib!=3.6.1,>=3.4->seaborn) (0.12.1)\n",
            "Requirement already satisfied: fonttools>=4.22.0 in /usr/local/lib/python3.11/dist-packages (from matplotlib!=3.6.1,>=3.4->seaborn) (4.57.0)\n",
            "Requirement already satisfied: kiwisolver>=1.3.1 in /usr/local/lib/python3.11/dist-packages (from matplotlib!=3.6.1,>=3.4->seaborn) (1.4.8)\n",
            "Requirement already satisfied: packaging>=20.0 in /usr/local/lib/python3.11/dist-packages (from matplotlib!=3.6.1,>=3.4->seaborn) (24.2)\n",
            "Requirement already satisfied: pillow>=8 in /usr/local/lib/python3.11/dist-packages (from matplotlib!=3.6.1,>=3.4->seaborn) (11.2.1)\n",
            "Requirement already satisfied: pyparsing>=2.3.1 in /usr/local/lib/python3.11/dist-packages (from matplotlib!=3.6.1,>=3.4->seaborn) (3.2.3)\n",
            "Requirement already satisfied: python-dateutil>=2.7 in /usr/local/lib/python3.11/dist-packages (from matplotlib!=3.6.1,>=3.4->seaborn) (2.9.0.post0)\n",
            "Requirement already satisfied: pytz>=2020.1 in /usr/local/lib/python3.11/dist-packages (from pandas>=1.2->seaborn) (2025.2)\n",
            "Requirement already satisfied: tzdata>=2022.7 in /usr/local/lib/python3.11/dist-packages (from pandas>=1.2->seaborn) (2025.2)\n",
            "Requirement already satisfied: six>=1.5 in /usr/local/lib/python3.11/dist-packages (from python-dateutil>=2.7->matplotlib!=3.6.1,>=3.4->seaborn) (1.17.0)\n"
          ]
        }
      ],
      "source": [
        "!pip install tensorflow\n",
        "!pip install transformers\n",
        "!pip install scikit-learn\n",
        "!pip install matplotlib\n",
        "!pip install seaborn"
      ]
    },
    {
      "cell_type": "markdown",
      "source": [
        "# Import libraries"
      ],
      "metadata": {
        "id": "5gytmS263nbX"
      }
    },
    {
      "cell_type": "code",
      "execution_count": null,
      "metadata": {
        "id": "fKfPN1Q_x-QU"
      },
      "outputs": [],
      "source": [
        "import tensorflow as tf\n",
        "from transformers import TFBertForSequenceClassification, BertConfig, AutoTokenizer, AdamWeightDecay\n",
        "from sklearn.preprocessing import LabelEncoder\n",
        "from sklearn.metrics import classification_report, confusion_matrix\n",
        "from sklearn.utils.class_weight import compute_class_weight\n",
        "from sklearn.utils import resample\n",
        "from collections import Counter\n",
        "import matplotlib.pyplot as plt\n",
        "import seaborn as sns\n",
        "import numpy as np\n",
        "import os"
      ]
    },
    {
      "cell_type": "markdown",
      "metadata": {
        "id": "wK36DUYex-QU"
      },
      "source": [
        "# Clone the PubMed RCT repository"
      ]
    },
    {
      "cell_type": "code",
      "execution_count": null,
      "metadata": {
        "id": "alOVJ7zIx-QU",
        "colab": {
          "base_uri": "https://localhost:8080/"
        },
        "outputId": "a81ad2b4-0377-418b-931f-2df25a5813c6"
      },
      "outputs": [
        {
          "output_type": "stream",
          "name": "stdout",
          "text": [
            "Cloning into 'pubmed-rct'...\n",
            "remote: Enumerating objects: 39, done.\u001b[K\n",
            "remote: Counting objects: 100% (14/14), done.\u001b[K\n",
            "remote: Compressing objects: 100% (9/9), done.\u001b[K\n",
            "remote: Total 39 (delta 8), reused 5 (delta 5), pack-reused 25 (from 1)\u001b[K\n",
            "Receiving objects: 100% (39/39), 177.08 MiB | 16.20 MiB/s, done.\n",
            "Resolving deltas: 100% (15/15), done.\n"
          ]
        }
      ],
      "source": [
        "if not os.path.exists('pubmed-rct'):\n",
        "    !git clone https://github.com/Franck-Dernoncourt/pubmed-rct.git\n",
        "\n",
        "data_dir = 'pubmed-rct/PubMed_20k_RCT_numbers_replaced_with_at_sign/'"
      ]
    },
    {
      "cell_type": "markdown",
      "source": [
        "# Function to parse dataset files with line numbers"
      ],
      "metadata": {
        "id": "aKSH2m0S3-Eo"
      }
    },
    {
      "cell_type": "code",
      "execution_count": null,
      "metadata": {
        "id": "NSHisB-Lx-QV"
      },
      "outputs": [],
      "source": [
        "def parse_file(filepath):\n",
        "    texts, labels, line_numbers = [], [], []\n",
        "    with open(filepath, 'r') as f:\n",
        "        line_num = 0\n",
        "        for line in f:\n",
        "            if line.startswith('###'):\n",
        "                line_num = 0\n",
        "                continue\n",
        "            if line.strip() == '':\n",
        "                continue\n",
        "            label, text = line.split('\\t', 1)\n",
        "            labels.append(label)\n",
        "            texts.append(text.strip())\n",
        "            line_numbers.append(line_num)\n",
        "            line_num += 1\n",
        "    return texts, labels, line_numbers"
      ]
    },
    {
      "cell_type": "markdown",
      "source": [
        "# Load and augment data"
      ],
      "metadata": {
        "id": "jHRaoXY24oxK"
      }
    },
    {
      "cell_type": "code",
      "source": [
        "train_texts, train_labels, train_line_numbers = parse_file(data_dir + 'train.txt')\n",
        "val_texts, val_labels, val_line_numbers = parse_file(data_dir + 'dev.txt')\n",
        "test_texts, test_labels, test_line_numbers = parse_file(data_dir + 'test.txt')"
      ],
      "metadata": {
        "id": "6iQcSFv54Ni7"
      },
      "execution_count": null,
      "outputs": []
    },
    {
      "cell_type": "markdown",
      "source": [
        "# Add positional information to texts"
      ],
      "metadata": {
        "id": "RhC7MT2bu_Bn"
      }
    },
    {
      "cell_type": "code",
      "source": [
        "train_texts_with_pos = [f\"[LINE {ln}] {text}\" for ln, text in zip(train_line_numbers, train_texts)]\n",
        "val_texts_with_pos = [f\"[LINE {ln}] {text}\" for ln, text in zip(val_line_numbers, val_texts)]\n",
        "test_texts_with_pos = [f\"[LINE {ln}] {text}\" for ln, text in zip(test_line_numbers, test_texts)]"
      ],
      "metadata": {
        "id": "5bMDofhau99n"
      },
      "execution_count": null,
      "outputs": []
    },
    {
      "cell_type": "markdown",
      "source": [
        "# Encode labels"
      ],
      "metadata": {
        "id": "is0x16Ym4jOd"
      }
    },
    {
      "cell_type": "code",
      "source": [
        "label_encoder = LabelEncoder()\n",
        "train_labels_encoded = label_encoder.fit_transform(train_labels)\n",
        "val_labels_encoded = label_encoder.transform(val_labels)\n",
        "test_labels_encoded = label_encoder.transform(test_labels)\n",
        "\n",
        "num_classes = len(label_encoder.classes_)"
      ],
      "metadata": {
        "id": "hoI65GmW4Pvg"
      },
      "execution_count": null,
      "outputs": []
    },
    {
      "cell_type": "markdown",
      "source": [
        "# Compute class weights"
      ],
      "metadata": {
        "id": "Qa5wVlDa4gDa"
      }
    },
    {
      "cell_type": "code",
      "source": [
        "class_weights = compute_class_weight('balanced', classes=np.unique(train_labels_encoded), y=train_labels_encoded)\n",
        "class_weights = dict(enumerate(class_weights))"
      ],
      "metadata": {
        "id": "BrZjJ5gx4eDs"
      },
      "execution_count": null,
      "outputs": []
    },
    {
      "cell_type": "markdown",
      "source": [
        "# Create sample weights for training"
      ],
      "metadata": {
        "id": "R_5in8pF4XJh"
      }
    },
    {
      "cell_type": "code",
      "source": [
        "train_sample_weight = np.array([class_weights[label] for label in train_labels_encoded])"
      ],
      "metadata": {
        "id": "dxSzShGq4TdR"
      },
      "execution_count": null,
      "outputs": []
    },
    {
      "cell_type": "markdown",
      "source": [
        "# Balancing Data"
      ],
      "metadata": {
        "id": "i7fJAqVg6bAe"
      }
    },
    {
      "cell_type": "code",
      "source": [
        "# Balancing Data\n",
        "from sklearn.utils import resample\n",
        "import numpy as np\n",
        "from collections import Counter\n",
        "\n",
        "class_counts = Counter(train_labels_encoded)\n",
        "min_class_count = min(class_counts.values())\n",
        "print(f\"Minimum class count: {min_class_count}\")\n",
        "\n",
        "resampled_texts = []\n",
        "resampled_labels = []\n",
        "resampled_line_numbers = []\n",
        "resampled_sample_weights = []\n",
        "\n",
        "for class_idx in range(num_classes):\n",
        "    class_indices = np.where(train_labels_encoded == class_idx)[0]\n",
        "\n",
        "    sampled_indices = resample(class_indices,\n",
        "                              replace=False,\n",
        "                              n_samples=min_class_count,\n",
        "                              random_state=42)\n",
        "\n",
        "    resampled_texts.extend([train_texts_with_pos[i] for i in sampled_indices])\n",
        "    resampled_labels.extend([train_labels_encoded[i] for i in sampled_indices])\n",
        "    resampled_line_numbers.extend([train_line_numbers[i] for i in sampled_indices])\n",
        "    resampled_sample_weights.extend([train_sample_weight[i] for i in sampled_indices])\n",
        "\n",
        "# Convert to numpy arrays for shuffling\n",
        "resampled_texts = np.array(resampled_texts)\n",
        "resampled_labels = np.array(resampled_labels)\n",
        "resampled_line_numbers = np.array(resampled_line_numbers)\n",
        "resampled_sample_weights = np.array(resampled_sample_weights)\n",
        "\n",
        "# Shuffle the resampled data\n",
        "shuffle_indices = np.random.permutation(len(resampled_texts))\n",
        "resampled_texts = resampled_texts[shuffle_indices]\n",
        "resampled_labels = resampled_labels[shuffle_indices]\n",
        "resampled_line_numbers = resampled_line_numbers[shuffle_indices]\n",
        "resampled_sample_weights = resampled_sample_weights[shuffle_indices]\n",
        "\n",
        "# Update training data\n",
        "train_texts_with_pos = resampled_texts.tolist()  # Convert back to list for tokenization\n",
        "train_labels_encoded = resampled_labels\n",
        "train_line_numbers = resampled_line_numbers\n",
        "train_sample_weight = resampled_sample_weights\n",
        "\n",
        "print(\"New class distribution:\", Counter(train_labels_encoded))"
      ],
      "metadata": {
        "colab": {
          "base_uri": "https://localhost:8080/"
        },
        "id": "1zlUf95IIrtL",
        "outputId": "04c01d68-cdc6-4a5b-d871-14498b7ef6c6"
      },
      "execution_count": null,
      "outputs": [
        {
          "output_type": "stream",
          "name": "stdout",
          "text": [
            "Minimum class count: 13839\n",
            "New class distribution: Counter({np.int64(4): 13839, np.int64(3): 13839, np.int64(0): 13839, np.int64(2): 13839, np.int64(1): 13839})\n"
          ]
        }
      ]
    },
    {
      "cell_type": "markdown",
      "source": [
        "# Load BioBERT tokenizer"
      ],
      "metadata": {
        "id": "UcrluPHi5ACU"
      }
    },
    {
      "cell_type": "code",
      "source": [
        "tokenizer = AutoTokenizer.from_pretrained('dmis-lab/biobert-base-cased-v1.1')"
      ],
      "metadata": {
        "id": "6ql6TZsszfLR",
        "colab": {
          "base_uri": "https://localhost:8080/",
          "height": 205,
          "referenced_widgets": [
            "963e056f5de148c0bb88b8aa2ee175b5",
            "49cb0d4fa0644c74b60383cf47cd18c2",
            "15cc2056280d48798641f12e748f99fa",
            "4a95f3578fca411d8d439573f65869b4",
            "7557c30217724220bf913c5a962686c9",
            "483b81a537eb439baaf2de0dcc1ce644",
            "3fa1eb54ff724b92b7c35b3a2b83be40",
            "028f69773c5a47a5aaf9d54774b09d16",
            "9b2edc27c04a4b8cb4953082083812d9",
            "b23b1188d15a4040839cf20d84135312",
            "55e3dd86a33b4ac0b098c868b37ea2c8",
            "49b7b8e333de46bc948004608fa1a010",
            "e07430c36b374a15afabb3e093b078ae",
            "75008688038f4fe7bbaaa6ccf361a404",
            "a20627ea469149f8b134b58c85797125",
            "046df6150caf4eaebc0698cdf4af020c",
            "89203abaa590458295e79ddb5120ead4",
            "4522458e890b4fcc93f3ad9882e47349",
            "b0996399a6e64dc6a8d2f1abdb3919f6",
            "02ea85a79e1543028ffa9675ce48ed0b",
            "3d1c249255fa4df79b838e0b00a8613b",
            "0b38bb80486d41788cb8d1a2d67c663a"
          ]
        },
        "outputId": "0f684a51-78d0-4e28-cd6a-e988ae486daa"
      },
      "execution_count": null,
      "outputs": [
        {
          "output_type": "stream",
          "name": "stderr",
          "text": [
            "/usr/local/lib/python3.11/dist-packages/huggingface_hub/utils/_auth.py:94: UserWarning: \n",
            "The secret `HF_TOKEN` does not exist in your Colab secrets.\n",
            "To authenticate with the Hugging Face Hub, create a token in your settings tab (https://huggingface.co/settings/tokens), set it as secret in your Google Colab and restart your session.\n",
            "You will be able to reuse this secret in all of your notebooks.\n",
            "Please note that authentication is recommended but still optional to access public models or datasets.\n",
            "  warnings.warn(\n"
          ]
        },
        {
          "output_type": "display_data",
          "data": {
            "text/plain": [
              "config.json:   0%|          | 0.00/313 [00:00<?, ?B/s]"
            ],
            "application/vnd.jupyter.widget-view+json": {
              "version_major": 2,
              "version_minor": 0,
              "model_id": "963e056f5de148c0bb88b8aa2ee175b5"
            }
          },
          "metadata": {}
        },
        {
          "output_type": "display_data",
          "data": {
            "text/plain": [
              "vocab.txt:   0%|          | 0.00/213k [00:00<?, ?B/s]"
            ],
            "application/vnd.jupyter.widget-view+json": {
              "version_major": 2,
              "version_minor": 0,
              "model_id": "49b7b8e333de46bc948004608fa1a010"
            }
          },
          "metadata": {}
        }
      ]
    },
    {
      "cell_type": "markdown",
      "source": [
        "# Compute token lengths to determine optimal max_length"
      ],
      "metadata": {
        "id": "Tt26OwjX5I3E"
      }
    },
    {
      "cell_type": "code",
      "source": [
        "token_lengths = []\n",
        "for i in range(0, len(train_texts_with_pos), 1000):\n",
        "    batch_texts = train_texts_with_pos[i:i+1000]\n",
        "    encodings = tokenizer(batch_texts, truncation=False, padding=False)\n",
        "    lengths = [len(enc) for enc in encodings['input_ids']]\n",
        "    token_lengths.extend(lengths)\n",
        "max_length = int(np.percentile(token_lengths, 95))\n",
        "print(f'Setting max_length to {max_length} based on 95th percentile of token lengths')"
      ],
      "metadata": {
        "colab": {
          "base_uri": "https://localhost:8080/"
        },
        "id": "oH9Sjrta5GdA",
        "outputId": "cb722d22-b6ed-409a-823c-62db13b0a720"
      },
      "execution_count": null,
      "outputs": [
        {
          "output_type": "stream",
          "name": "stdout",
          "text": [
            "Setting max_length to 77 based on 95th percentile of token lengths\n"
          ]
        }
      ]
    },
    {
      "cell_type": "markdown",
      "source": [
        "# Tokenize the texts"
      ],
      "metadata": {
        "id": "F34GEVpF5Elp"
      }
    },
    {
      "cell_type": "code",
      "source": [
        "train_encodings = tokenizer(train_texts_with_pos, truncation=True, padding=True, max_length=max_length, return_tensors='tf')\n",
        "val_encodings = tokenizer(val_texts_with_pos, truncation=True, padding=True, max_length=max_length, return_tensors='tf')\n",
        "test_encodings = tokenizer(test_texts_with_pos, truncation=True, padding=True, max_length=max_length, return_tensors='tf')"
      ],
      "metadata": {
        "id": "W45Y-AVg5Dbi"
      },
      "execution_count": null,
      "outputs": []
    },
    {
      "cell_type": "markdown",
      "source": [
        "# Create tf.data datasets"
      ],
      "metadata": {
        "id": "nxVcxeXM5YVm"
      }
    },
    {
      "cell_type": "code",
      "source": [
        "batch_size = 32\n",
        "train_dataset = tf.data.Dataset.from_tensor_slices((\n",
        "    dict(train_encodings),\n",
        "    train_labels_encoded,\n",
        "    train_sample_weight\n",
        ")).shuffle(buffer_size=10000).batch(batch_size).prefetch(tf.data.AUTOTUNE)\n",
        "val_dataset = tf.data.Dataset.from_tensor_slices((\n",
        "    dict(val_encodings),\n",
        "    val_labels_encoded\n",
        ")).batch(batch_size).prefetch(tf.data.AUTOTUNE)\n",
        "test_dataset = tf.data.Dataset.from_tensor_slices((\n",
        "    dict(test_encodings),\n",
        "    test_labels_encoded\n",
        ")).batch(batch_size).prefetch(tf.data.AUTOTUNE)"
      ],
      "metadata": {
        "id": "D1ba899KblDD"
      },
      "execution_count": null,
      "outputs": []
    },
    {
      "cell_type": "markdown",
      "source": [
        "# Enable mixed precision"
      ],
      "metadata": {
        "id": "OowDe9Dt6DKh"
      }
    },
    {
      "cell_type": "code",
      "source": [
        "tf.keras.mixed_precision.set_global_policy('mixed_float16')"
      ],
      "metadata": {
        "id": "qq4CKaHl6Dt7"
      },
      "execution_count": null,
      "outputs": []
    },
    {
      "cell_type": "markdown",
      "source": [
        "# Load BioBERT model\n"
      ],
      "metadata": {
        "id": "tuHCYTNc6GqG"
      }
    },
    {
      "cell_type": "code",
      "source": [
        "config = BertConfig.from_pretrained('dmis-lab/biobert-base-cased-v1.1', num_labels=num_classes, hidden_dropout_prob=0.4, attention_probs_dropout_prob=0.4)\n",
        "model = TFBertForSequenceClassification.from_pretrained('dmis-lab/biobert-base-cased-v1.1', config=config, from_pt=True)"
      ],
      "metadata": {
        "colab": {
          "base_uri": "https://localhost:8080/",
          "height": 138,
          "referenced_widgets": [
            "7d15dc5f0d424b7d87359867062862d3",
            "fe1b59873dbc4f91a808d3c282950cf9",
            "1548ead24da14639a5339e3a107f6a26",
            "0eff4463216c4336910ce65bd3aece88",
            "a31fe87d4d05469f9f403557e7b79971",
            "3c138805759e4bc4a2dd1ffa5d63ab42",
            "e5ff85d56e03407ea04c0508f1ae58d7",
            "e46880d4d2d1493fa31faa2f88a3c074",
            "985d002238b445a990534ed72e35421e",
            "74b828cd5ea34dcea6ac63e5c0ff3865",
            "c1d7cdeeb2da4b40b8bb7b37b21fdfb8"
          ]
        },
        "id": "fEb1Z4LF6HiB",
        "outputId": "ccacc7d2-630f-44dd-afe3-93d674a7304d"
      },
      "execution_count": null,
      "outputs": [
        {
          "output_type": "display_data",
          "data": {
            "text/plain": [
              "pytorch_model.bin:   0%|          | 0.00/436M [00:00<?, ?B/s]"
            ],
            "application/vnd.jupyter.widget-view+json": {
              "version_major": 2,
              "version_minor": 0,
              "model_id": "7d15dc5f0d424b7d87359867062862d3"
            }
          },
          "metadata": {}
        },
        {
          "output_type": "stream",
          "name": "stderr",
          "text": [
            "All PyTorch model weights were used when initializing TFBertForSequenceClassification.\n",
            "\n",
            "Some weights or buffers of the TF 2.0 model TFBertForSequenceClassification were not initialized from the PyTorch model and are newly initialized: ['classifier.weight', 'classifier.bias']\n",
            "You should probably TRAIN this model on a down-stream task to be able to use it for predictions and inference.\n"
          ]
        }
      ]
    },
    {
      "cell_type": "markdown",
      "source": [
        "# Define learning rate schedule with warmup"
      ],
      "metadata": {
        "id": "uw3sRu_v6NrA"
      }
    },
    {
      "cell_type": "code",
      "source": [
        "initial_lr = 1e-5\n",
        "epochs = 32\n",
        "num_train_steps = (len(train_texts) // batch_size) * epochs\n",
        "warmup_steps = int(0.15 * num_train_steps)\n",
        "\n",
        "class LinearScheduleWithWarmup(tf.keras.optimizers.schedules.LearningRateSchedule):\n",
        "    def __init__(self, initial_lr, warmup_steps, total_steps):\n",
        "        super(LinearScheduleWithWarmup, self).__init__()\n",
        "        self.initial_lr = initial_lr\n",
        "        self.warmup_steps = warmup_steps\n",
        "        self.total_steps = total_steps\n",
        "\n",
        "    def __call__(self, step):\n",
        "        step = tf.cast(step, tf.float32)\n",
        "        return tf.cond(\n",
        "            step < self.warmup_steps,\n",
        "            lambda: self.initial_lr * (step / self.warmup_steps),\n",
        "            lambda: self.initial_lr * (\n",
        "                (self.total_steps - step) / (self.total_steps - self.warmup_steps)\n",
        "            ),\n",
        "        )\n",
        "\n",
        "    def get_config(self): # Add get_config method\n",
        "        return {\n",
        "            \"initial_lr\": self.initial_lr,\n",
        "            \"warmup_steps\": self.warmup_steps,\n",
        "            \"total_steps\": self.total_steps,\n",
        "        }\n",
        "\n",
        "lr_schedule = LinearScheduleWithWarmup(initial_lr, warmup_steps, num_train_steps)\n",
        "\n",
        "# Set up optimizer\n",
        "optimizer = AdamWeightDecay(learning_rate=initial_lr,  # Use initial_lr instead of lr_schedule\n",
        "                            weight_decay_rate=0.01,\n",
        "                            epsilon=1e-6,\n",
        "                            clipnorm=1.0)\n",
        "\n",
        "# Create a callback to update the learning rate according to the schedule\n",
        "class LRUpdateCallback(tf.keras.callbacks.Callback):\n",
        "    def __init__(self, schedule):\n",
        "        super(LRUpdateCallback, self).__init__()\n",
        "        self.schedule = schedule\n",
        "\n",
        "    def on_train_batch_begin(self, batch, logs=None):\n",
        "        lr = self.schedule(self.model.optimizer.iterations)\n",
        "        tf.keras.backend.set_value(self.model.optimizer.lr, lr)\n",
        "\n",
        "lr_update_callback = LRUpdateCallback(lr_schedule)"
      ],
      "metadata": {
        "id": "lvDcdQkkbmLh"
      },
      "execution_count": null,
      "outputs": []
    },
    {
      "cell_type": "markdown",
      "source": [
        "# Set up optimizer"
      ],
      "metadata": {
        "id": "PnXo8-Cf5-EV"
      }
    },
    {
      "cell_type": "markdown",
      "source": [
        "# Compile the model"
      ],
      "metadata": {
        "id": "7H-QVlMu56YW"
      }
    },
    {
      "cell_type": "code",
      "source": [
        "model.compile(optimizer=optimizer,\n",
        "              loss=tf.keras.losses.SparseCategoricalCrossentropy(from_logits=True),\n",
        "              metrics=['accuracy'])"
      ],
      "metadata": {
        "id": "5IftS_In54_y"
      },
      "execution_count": null,
      "outputs": []
    },
    {
      "cell_type": "markdown",
      "source": [
        "# Set up callbacks"
      ],
      "metadata": {
        "id": "4kJjuhEG6coV"
      }
    },
    {
      "cell_type": "code",
      "source": [
        "early_stopping = tf.keras.callbacks.EarlyStopping(monitor='val_accuracy', patience=5, restore_best_weights=True)\n",
        "lr_reducer = tf.keras.callbacks.ReduceLROnPlateau(monitor='val_accuracy', factor=0.5, patience=2, min_lr=1e-6)"
      ],
      "metadata": {
        "id": "hfYp_lwA6dAf"
      },
      "execution_count": null,
      "outputs": []
    },
    {
      "cell_type": "markdown",
      "source": [
        "# Train the model"
      ],
      "metadata": {
        "id": "5LtcA6A76foR"
      }
    },
    {
      "cell_type": "code",
      "execution_count": null,
      "metadata": {
        "id": "HHqjR7Skx-QV",
        "colab": {
          "base_uri": "https://localhost:8080/"
        },
        "outputId": "224b3356-aa5d-42aa-a69f-f2393c0ec366"
      },
      "outputs": [
        {
          "output_type": "stream",
          "name": "stdout",
          "text": [
            "Epoch 1/32\n",
            "2163/2163 [==============================] - 382s 160ms/step - loss: 2.0856 - accuracy: 0.2087 - val_loss: 1.6124 - val_accuracy: 0.0891 - lr: 8.0062e-07\n",
            "Epoch 2/32\n",
            "2163/2163 [==============================] - 344s 159ms/step - loss: 1.3437 - accuracy: 0.5626 - val_loss: 0.6580 - val_accuracy: 0.7952 - lr: 1.6016e-06\n",
            "Epoch 3/32\n",
            "2163/2163 [==============================] - 343s 158ms/step - loss: 0.8129 - accuracy: 0.7647 - val_loss: 0.4656 - val_accuracy: 0.8294 - lr: 2.4026e-06\n",
            "Epoch 4/32\n",
            "2163/2163 [==============================] - 345s 159ms/step - loss: 0.6878 - accuracy: 0.7931 - val_loss: 0.3965 - val_accuracy: 0.8572 - lr: 3.2036e-06\n",
            "Epoch 5/32\n",
            "2163/2163 [==============================] - 345s 160ms/step - loss: 0.6468 - accuracy: 0.8036 - val_loss: 0.3613 - val_accuracy: 0.8705 - lr: 4.0046e-06\n",
            "Epoch 6/32\n",
            "2163/2163 [==============================] - 345s 159ms/step - loss: 0.6198 - accuracy: 0.8110 - val_loss: 0.3274 - val_accuracy: 0.8780 - lr: 4.8056e-06\n",
            "Epoch 7/32\n",
            "2163/2163 [==============================] - 345s 159ms/step - loss: 0.6057 - accuracy: 0.8167 - val_loss: 0.3184 - val_accuracy: 0.8844 - lr: 5.6066e-06\n",
            "Epoch 8/32\n",
            "2163/2163 [==============================] - 346s 160ms/step - loss: 0.5908 - accuracy: 0.8214 - val_loss: 0.2991 - val_accuracy: 0.8920 - lr: 6.4076e-06\n",
            "Epoch 9/32\n",
            "2163/2163 [==============================] - 345s 159ms/step - loss: 0.5790 - accuracy: 0.8269 - val_loss: 0.2873 - val_accuracy: 0.8916 - lr: 7.2086e-06\n",
            "Epoch 10/32\n",
            "2163/2163 [==============================] - 345s 160ms/step - loss: 0.5675 - accuracy: 0.8284 - val_loss: 0.2822 - val_accuracy: 0.8964 - lr: 8.0096e-06\n",
            "Epoch 11/32\n",
            "2163/2163 [==============================] - 343s 159ms/step - loss: 0.5598 - accuracy: 0.8331 - val_loss: 0.2817 - val_accuracy: 0.8981 - lr: 8.8105e-06\n",
            "Epoch 12/32\n",
            "2163/2163 [==============================] - 343s 159ms/step - loss: 0.5477 - accuracy: 0.8388 - val_loss: 0.2801 - val_accuracy: 0.8968 - lr: 9.6115e-06\n",
            "Epoch 13/32\n",
            "2163/2163 [==============================] - 345s 159ms/step - loss: 0.5440 - accuracy: 0.8386 - val_loss: 0.2799 - val_accuracy: 0.9017 - lr: 9.9272e-06\n",
            "Epoch 14/32\n",
            "2163/2163 [==============================] - 345s 159ms/step - loss: 0.5279 - accuracy: 0.8444 - val_loss: 0.2821 - val_accuracy: 0.9016 - lr: 9.7859e-06\n",
            "Epoch 15/32\n",
            "2163/2163 [==============================] - 345s 160ms/step - loss: 0.5175 - accuracy: 0.8497 - val_loss: 0.2797 - val_accuracy: 0.9031 - lr: 9.6445e-06\n",
            "Epoch 16/32\n",
            "2163/2163 [==============================] - 345s 159ms/step - loss: 0.5084 - accuracy: 0.8521 - val_loss: 0.2875 - val_accuracy: 0.9026 - lr: 9.5032e-06\n",
            "Epoch 17/32\n",
            "2163/2163 [==============================] - 345s 159ms/step - loss: 0.4980 - accuracy: 0.8579 - val_loss: 0.3069 - val_accuracy: 0.8967 - lr: 9.3618e-06\n",
            "Epoch 18/32\n",
            "2163/2163 [==============================] - 345s 159ms/step - loss: 0.4874 - accuracy: 0.8611 - val_loss: 0.3026 - val_accuracy: 0.8964 - lr: 9.2205e-06\n",
            "Epoch 19/32\n",
            "2163/2163 [==============================] - 345s 159ms/step - loss: 0.4829 - accuracy: 0.8623 - val_loss: 0.3336 - val_accuracy: 0.8969 - lr: 9.0791e-06\n",
            "Epoch 20/32\n",
            "2163/2163 [==============================] - 345s 159ms/step - loss: 0.4721 - accuracy: 0.8667 - val_loss: 0.3273 - val_accuracy: 0.8977 - lr: 8.9378e-06\n"
          ]
        }
      ],
      "source": [
        "history = model.fit(train_dataset,\n",
        "                    validation_data=val_dataset,\n",
        "                    epochs=epochs,\n",
        "                    callbacks=[early_stopping, lr_reducer, lr_update_callback])"
      ]
    },
    {
      "cell_type": "markdown",
      "source": [
        "# Evaluate on test set"
      ],
      "metadata": {
        "id": "G8_IlVaR65Uw"
      }
    },
    {
      "cell_type": "code",
      "source": [
        "test_loss, test_accuracy = model.evaluate(test_dataset)\n",
        "print(f'Test Loss: {test_loss:.4f}, Test Accuracy: {test_accuracy:.4f}')"
      ],
      "metadata": {
        "id": "W7x47JjA65q1",
        "colab": {
          "base_uri": "https://localhost:8080/"
        },
        "outputId": "2bacb0fb-8e8e-4bc4-f31f-e8f725f52c0d"
      },
      "execution_count": null,
      "outputs": [
        {
          "output_type": "stream",
          "name": "stdout",
          "text": [
            "942/942 [==============================] - 35s 37ms/step - loss: 0.3060 - accuracy: 0.8968\n",
            "Test Loss: 0.3060, Test Accuracy: 0.8968\n"
          ]
        }
      ]
    },
    {
      "cell_type": "markdown",
      "source": [
        "# Get predictions"
      ],
      "metadata": {
        "id": "0sYDnGb37ArM"
      }
    },
    {
      "cell_type": "code",
      "source": [
        "predictions = model.predict(test_dataset)\n",
        "predicted_labels = np.argmax(predictions.logits, axis=1)"
      ],
      "metadata": {
        "id": "fGwod3Q-695L",
        "colab": {
          "base_uri": "https://localhost:8080/"
        },
        "outputId": "a57e1f35-8914-4f9f-ec44-f6b1b291ba03"
      },
      "execution_count": null,
      "outputs": [
        {
          "output_type": "stream",
          "name": "stdout",
          "text": [
            "942/942 [==============================] - 39s 38ms/step\n"
          ]
        }
      ]
    },
    {
      "cell_type": "markdown",
      "source": [
        "# Classification report"
      ],
      "metadata": {
        "id": "5wudLJuM7BhE"
      }
    },
    {
      "cell_type": "code",
      "source": [
        "print('\\nClassification Report:\\n')\n",
        "print(classification_report(test_labels_encoded, predicted_labels, target_names=label_encoder.classes_))"
      ],
      "metadata": {
        "id": "VQSUXrls7FT5",
        "colab": {
          "base_uri": "https://localhost:8080/"
        },
        "outputId": "fa621bd7-e104-4b8e-e7ca-fe0fb57bbc54"
      },
      "execution_count": null,
      "outputs": [
        {
          "output_type": "stream",
          "name": "stdout",
          "text": [
            "\n",
            "Classification Report:\n",
            "\n",
            "              precision    recall  f1-score   support\n",
            "\n",
            "  BACKGROUND       0.76      0.83      0.79      3621\n",
            " CONCLUSIONS       0.90      0.92      0.91      4571\n",
            "     METHODS       0.93      0.96      0.94      9897\n",
            "   OBJECTIVE       0.75      0.61      0.67      2333\n",
            "     RESULTS       0.94      0.91      0.93      9713\n",
            "\n",
            "    accuracy                           0.90     30135\n",
            "   macro avg       0.86      0.85      0.85     30135\n",
            "weighted avg       0.90      0.90      0.90     30135\n",
            "\n"
          ]
        }
      ]
    },
    {
      "cell_type": "markdown",
      "source": [
        "# Confusion matrix"
      ],
      "metadata": {
        "id": "UEw586m97GBG"
      }
    },
    {
      "cell_type": "code",
      "source": [
        "cm = confusion_matrix(test_labels_encoded, predicted_labels)\n",
        "plt.figure(figsize=(10, 8))\n",
        "sns.heatmap(cm, annot=True, fmt='d', xticklabels=label_encoder.classes_, yticklabels=label_encoder.classes_, cmap='Blues')\n",
        "plt.xlabel('Predicted')\n",
        "plt.ylabel('True')\n",
        "plt.title('Confusion Matrix')\n",
        "plt.savefig('confusion_matrix.png')\n",
        "plt.close()"
      ],
      "metadata": {
        "id": "dvCTQnEf7JO3"
      },
      "execution_count": null,
      "outputs": []
    },
    {
      "cell_type": "markdown",
      "source": [
        "# Plot training history"
      ],
      "metadata": {
        "id": "8EnVCfZb7KFX"
      }
    },
    {
      "cell_type": "code",
      "source": [
        "plt.figure(figsize=(12, 4))\n",
        "plt.subplot(1, 2, 1)\n",
        "plt.plot(history.history['loss'], label='Train Loss')\n",
        "plt.plot(history.history['val_loss'], label='Validation Loss')\n",
        "plt.legend()\n",
        "plt.title('Loss Over Epochs')\n",
        "plt.xlabel('Epoch')\n",
        "plt.ylabel('Loss')\n",
        "plt.subplot(1, 2, 2)\n",
        "plt.plot(history.history['accuracy'], label='Train Accuracy')\n",
        "plt.plot(history.history['val_accuracy'], label='Validation Accuracy')\n",
        "plt.legend()\n",
        "plt.title('Accuracy Over Epochs')\n",
        "plt.xlabel('Epoch')\n",
        "plt.ylabel('Accuracy')\n",
        "plt.tight_layout()\n",
        "plt.savefig('training_history.png')\n",
        "plt.close()"
      ],
      "metadata": {
        "id": "hrzwqX2C6odJ"
      },
      "execution_count": null,
      "outputs": []
    },
    {
      "cell_type": "markdown",
      "source": [
        "# Save the model, tokenizer, and label encoder"
      ],
      "metadata": {
        "id": "EL0JWaGXvvzI"
      }
    },
    {
      "cell_type": "code",
      "source": [
        "model_dir = \"skimlit_model\"\n",
        "os.makedirs(model_dir, exist_ok=True)\n",
        "\n",
        "model.save_pretrained(model_dir)\n",
        "\n",
        "tokenizer.save_pretrained(model_dir)\n",
        "\n",
        "import joblib\n",
        "joblib.dump(label_encoder, os.path.join(model_dir, \"label_encoder.joblib\"))\n",
        "\n",
        "config.save_pretrained(model_dir)"
      ],
      "metadata": {
        "id": "SofhHKMQwDAE"
      },
      "execution_count": null,
      "outputs": []
    },
    {
      "cell_type": "code",
      "source": [
        "import os\n",
        "import joblib\n",
        "import numpy as np\n",
        "from transformers import TFBertForSequenceClassification, BertConfig, AutoTokenizer\n",
        "from sklearn.metrics import classification_report, confusion_matrix\n",
        "import tensorflow as tf\n",
        "import matplotlib.pyplot as plt\n",
        "import seaborn as sns\n",
        "\n",
        "# Load the saved model, tokenizer, and label encoder\n",
        "model_dir = \"skimlit_model\"\n",
        "model = TFBertForSequenceClassification.from_pretrained(model_dir)\n",
        "tokenizer = AutoTokenizer.from_pretrained(model_dir)\n",
        "label_encoder = joblib.load(os.path.join(model_dir, \"label_encoder.joblib\"))\n",
        "config = BertConfig.from_pretrained(model_dir)\n",
        "\n",
        "\n",
        "# Example usage (replace with your actual test data):\n",
        "test_texts = [\"This is a test sentence about a clinical trial.\", \"Another sentence related to medical research.\"]\n",
        "test_texts_with_pos = [f\"[LINE 0] {text}\" for text in test_texts]\n",
        "\n",
        "# Tokenize the new texts\n",
        "test_encodings = tokenizer(test_texts_with_pos, truncation=True, padding=True, max_length=config.max_position_embeddings, return_tensors='tf')\n",
        "\n",
        "# Create a tf.data dataset for prediction\n",
        "test_dataset = tf.data.Dataset.from_tensor_slices(dict(test_encodings)).batch(1).prefetch(tf.data.AUTOTUNE)\n",
        "\n",
        "# Make predictions\n",
        "predictions = model.predict(test_dataset)\n",
        "\n",
        "# Get predicted labels\n",
        "predicted_labels = np.argmax(predictions.logits, axis=1)\n",
        "\n",
        "# Decode predicted labels\n",
        "predicted_labels_decoded = label_encoder.inverse_transform(predicted_labels)\n",
        "\n",
        "# Print the decoded predictions\n",
        "print(\"Predicted labels:\")\n",
        "for text, label in zip(test_texts, predicted_labels_decoded):\n",
        "  print(f\"Text: {text}, Predicted Label: {label}\")"
      ],
      "metadata": {
        "id": "su0errGYwePz",
        "colab": {
          "base_uri": "https://localhost:8080/"
        },
        "outputId": "b6bce99f-1336-49bb-ba15-00c6c77a5421"
      },
      "execution_count": null,
      "outputs": [
        {
          "output_type": "stream",
          "name": "stderr",
          "text": [
            "Some layers from the model checkpoint at skimlit_model were not used when initializing TFBertForSequenceClassification: ['dropout_37']\n",
            "- This IS expected if you are initializing TFBertForSequenceClassification from the checkpoint of a model trained on another task or with another architecture (e.g. initializing a BertForSequenceClassification model from a BertForPreTraining model).\n",
            "- This IS NOT expected if you are initializing TFBertForSequenceClassification from the checkpoint of a model that you expect to be exactly identical (initializing a BertForSequenceClassification model from a BertForSequenceClassification model).\n",
            "All the layers of TFBertForSequenceClassification were initialized from the model checkpoint at skimlit_model.\n",
            "If your task is similar to the task the model of the checkpoint was trained on, you can already use TFBertForSequenceClassification for predictions without further training.\n"
          ]
        },
        {
          "output_type": "stream",
          "name": "stdout",
          "text": [
            "2/2 [==============================] - 4s 25ms/step\n",
            "Predicted labels:\n",
            "Text: This is a test sentence about a clinical trial., Predicted Label: OBJECTIVE\n",
            "Text: Another sentence related to medical research., Predicted Label: METHODS\n"
          ]
        }
      ]
    }
  ],
  "metadata": {
    "kernelspec": {
      "display_name": "Python 3",
      "name": "python3"
    },
    "language_info": {
      "name": "python"
    },
    "colab": {
      "provenance": [],
      "gpuType": "L4",
      "machine_shape": "hm"
    },
    "accelerator": "GPU",
    "widgets": {
      "application/vnd.jupyter.widget-state+json": {
        "963e056f5de148c0bb88b8aa2ee175b5": {
          "model_module": "@jupyter-widgets/controls",
          "model_name": "HBoxModel",
          "model_module_version": "1.5.0",
          "state": {
            "_dom_classes": [],
            "_model_module": "@jupyter-widgets/controls",
            "_model_module_version": "1.5.0",
            "_model_name": "HBoxModel",
            "_view_count": null,
            "_view_module": "@jupyter-widgets/controls",
            "_view_module_version": "1.5.0",
            "_view_name": "HBoxView",
            "box_style": "",
            "children": [
              "IPY_MODEL_49cb0d4fa0644c74b60383cf47cd18c2",
              "IPY_MODEL_15cc2056280d48798641f12e748f99fa",
              "IPY_MODEL_4a95f3578fca411d8d439573f65869b4"
            ],
            "layout": "IPY_MODEL_7557c30217724220bf913c5a962686c9"
          }
        },
        "49cb0d4fa0644c74b60383cf47cd18c2": {
          "model_module": "@jupyter-widgets/controls",
          "model_name": "HTMLModel",
          "model_module_version": "1.5.0",
          "state": {
            "_dom_classes": [],
            "_model_module": "@jupyter-widgets/controls",
            "_model_module_version": "1.5.0",
            "_model_name": "HTMLModel",
            "_view_count": null,
            "_view_module": "@jupyter-widgets/controls",
            "_view_module_version": "1.5.0",
            "_view_name": "HTMLView",
            "description": "",
            "description_tooltip": null,
            "layout": "IPY_MODEL_483b81a537eb439baaf2de0dcc1ce644",
            "placeholder": "​",
            "style": "IPY_MODEL_3fa1eb54ff724b92b7c35b3a2b83be40",
            "value": "config.json: 100%"
          }
        },
        "15cc2056280d48798641f12e748f99fa": {
          "model_module": "@jupyter-widgets/controls",
          "model_name": "FloatProgressModel",
          "model_module_version": "1.5.0",
          "state": {
            "_dom_classes": [],
            "_model_module": "@jupyter-widgets/controls",
            "_model_module_version": "1.5.0",
            "_model_name": "FloatProgressModel",
            "_view_count": null,
            "_view_module": "@jupyter-widgets/controls",
            "_view_module_version": "1.5.0",
            "_view_name": "ProgressView",
            "bar_style": "success",
            "description": "",
            "description_tooltip": null,
            "layout": "IPY_MODEL_028f69773c5a47a5aaf9d54774b09d16",
            "max": 313,
            "min": 0,
            "orientation": "horizontal",
            "style": "IPY_MODEL_9b2edc27c04a4b8cb4953082083812d9",
            "value": 313
          }
        },
        "4a95f3578fca411d8d439573f65869b4": {
          "model_module": "@jupyter-widgets/controls",
          "model_name": "HTMLModel",
          "model_module_version": "1.5.0",
          "state": {
            "_dom_classes": [],
            "_model_module": "@jupyter-widgets/controls",
            "_model_module_version": "1.5.0",
            "_model_name": "HTMLModel",
            "_view_count": null,
            "_view_module": "@jupyter-widgets/controls",
            "_view_module_version": "1.5.0",
            "_view_name": "HTMLView",
            "description": "",
            "description_tooltip": null,
            "layout": "IPY_MODEL_b23b1188d15a4040839cf20d84135312",
            "placeholder": "​",
            "style": "IPY_MODEL_55e3dd86a33b4ac0b098c868b37ea2c8",
            "value": " 313/313 [00:00&lt;00:00, 38.1kB/s]"
          }
        },
        "7557c30217724220bf913c5a962686c9": {
          "model_module": "@jupyter-widgets/base",
          "model_name": "LayoutModel",
          "model_module_version": "1.2.0",
          "state": {
            "_model_module": "@jupyter-widgets/base",
            "_model_module_version": "1.2.0",
            "_model_name": "LayoutModel",
            "_view_count": null,
            "_view_module": "@jupyter-widgets/base",
            "_view_module_version": "1.2.0",
            "_view_name": "LayoutView",
            "align_content": null,
            "align_items": null,
            "align_self": null,
            "border": null,
            "bottom": null,
            "display": null,
            "flex": null,
            "flex_flow": null,
            "grid_area": null,
            "grid_auto_columns": null,
            "grid_auto_flow": null,
            "grid_auto_rows": null,
            "grid_column": null,
            "grid_gap": null,
            "grid_row": null,
            "grid_template_areas": null,
            "grid_template_columns": null,
            "grid_template_rows": null,
            "height": null,
            "justify_content": null,
            "justify_items": null,
            "left": null,
            "margin": null,
            "max_height": null,
            "max_width": null,
            "min_height": null,
            "min_width": null,
            "object_fit": null,
            "object_position": null,
            "order": null,
            "overflow": null,
            "overflow_x": null,
            "overflow_y": null,
            "padding": null,
            "right": null,
            "top": null,
            "visibility": null,
            "width": null
          }
        },
        "483b81a537eb439baaf2de0dcc1ce644": {
          "model_module": "@jupyter-widgets/base",
          "model_name": "LayoutModel",
          "model_module_version": "1.2.0",
          "state": {
            "_model_module": "@jupyter-widgets/base",
            "_model_module_version": "1.2.0",
            "_model_name": "LayoutModel",
            "_view_count": null,
            "_view_module": "@jupyter-widgets/base",
            "_view_module_version": "1.2.0",
            "_view_name": "LayoutView",
            "align_content": null,
            "align_items": null,
            "align_self": null,
            "border": null,
            "bottom": null,
            "display": null,
            "flex": null,
            "flex_flow": null,
            "grid_area": null,
            "grid_auto_columns": null,
            "grid_auto_flow": null,
            "grid_auto_rows": null,
            "grid_column": null,
            "grid_gap": null,
            "grid_row": null,
            "grid_template_areas": null,
            "grid_template_columns": null,
            "grid_template_rows": null,
            "height": null,
            "justify_content": null,
            "justify_items": null,
            "left": null,
            "margin": null,
            "max_height": null,
            "max_width": null,
            "min_height": null,
            "min_width": null,
            "object_fit": null,
            "object_position": null,
            "order": null,
            "overflow": null,
            "overflow_x": null,
            "overflow_y": null,
            "padding": null,
            "right": null,
            "top": null,
            "visibility": null,
            "width": null
          }
        },
        "3fa1eb54ff724b92b7c35b3a2b83be40": {
          "model_module": "@jupyter-widgets/controls",
          "model_name": "DescriptionStyleModel",
          "model_module_version": "1.5.0",
          "state": {
            "_model_module": "@jupyter-widgets/controls",
            "_model_module_version": "1.5.0",
            "_model_name": "DescriptionStyleModel",
            "_view_count": null,
            "_view_module": "@jupyter-widgets/base",
            "_view_module_version": "1.2.0",
            "_view_name": "StyleView",
            "description_width": ""
          }
        },
        "028f69773c5a47a5aaf9d54774b09d16": {
          "model_module": "@jupyter-widgets/base",
          "model_name": "LayoutModel",
          "model_module_version": "1.2.0",
          "state": {
            "_model_module": "@jupyter-widgets/base",
            "_model_module_version": "1.2.0",
            "_model_name": "LayoutModel",
            "_view_count": null,
            "_view_module": "@jupyter-widgets/base",
            "_view_module_version": "1.2.0",
            "_view_name": "LayoutView",
            "align_content": null,
            "align_items": null,
            "align_self": null,
            "border": null,
            "bottom": null,
            "display": null,
            "flex": null,
            "flex_flow": null,
            "grid_area": null,
            "grid_auto_columns": null,
            "grid_auto_flow": null,
            "grid_auto_rows": null,
            "grid_column": null,
            "grid_gap": null,
            "grid_row": null,
            "grid_template_areas": null,
            "grid_template_columns": null,
            "grid_template_rows": null,
            "height": null,
            "justify_content": null,
            "justify_items": null,
            "left": null,
            "margin": null,
            "max_height": null,
            "max_width": null,
            "min_height": null,
            "min_width": null,
            "object_fit": null,
            "object_position": null,
            "order": null,
            "overflow": null,
            "overflow_x": null,
            "overflow_y": null,
            "padding": null,
            "right": null,
            "top": null,
            "visibility": null,
            "width": null
          }
        },
        "9b2edc27c04a4b8cb4953082083812d9": {
          "model_module": "@jupyter-widgets/controls",
          "model_name": "ProgressStyleModel",
          "model_module_version": "1.5.0",
          "state": {
            "_model_module": "@jupyter-widgets/controls",
            "_model_module_version": "1.5.0",
            "_model_name": "ProgressStyleModel",
            "_view_count": null,
            "_view_module": "@jupyter-widgets/base",
            "_view_module_version": "1.2.0",
            "_view_name": "StyleView",
            "bar_color": null,
            "description_width": ""
          }
        },
        "b23b1188d15a4040839cf20d84135312": {
          "model_module": "@jupyter-widgets/base",
          "model_name": "LayoutModel",
          "model_module_version": "1.2.0",
          "state": {
            "_model_module": "@jupyter-widgets/base",
            "_model_module_version": "1.2.0",
            "_model_name": "LayoutModel",
            "_view_count": null,
            "_view_module": "@jupyter-widgets/base",
            "_view_module_version": "1.2.0",
            "_view_name": "LayoutView",
            "align_content": null,
            "align_items": null,
            "align_self": null,
            "border": null,
            "bottom": null,
            "display": null,
            "flex": null,
            "flex_flow": null,
            "grid_area": null,
            "grid_auto_columns": null,
            "grid_auto_flow": null,
            "grid_auto_rows": null,
            "grid_column": null,
            "grid_gap": null,
            "grid_row": null,
            "grid_template_areas": null,
            "grid_template_columns": null,
            "grid_template_rows": null,
            "height": null,
            "justify_content": null,
            "justify_items": null,
            "left": null,
            "margin": null,
            "max_height": null,
            "max_width": null,
            "min_height": null,
            "min_width": null,
            "object_fit": null,
            "object_position": null,
            "order": null,
            "overflow": null,
            "overflow_x": null,
            "overflow_y": null,
            "padding": null,
            "right": null,
            "top": null,
            "visibility": null,
            "width": null
          }
        },
        "55e3dd86a33b4ac0b098c868b37ea2c8": {
          "model_module": "@jupyter-widgets/controls",
          "model_name": "DescriptionStyleModel",
          "model_module_version": "1.5.0",
          "state": {
            "_model_module": "@jupyter-widgets/controls",
            "_model_module_version": "1.5.0",
            "_model_name": "DescriptionStyleModel",
            "_view_count": null,
            "_view_module": "@jupyter-widgets/base",
            "_view_module_version": "1.2.0",
            "_view_name": "StyleView",
            "description_width": ""
          }
        },
        "49b7b8e333de46bc948004608fa1a010": {
          "model_module": "@jupyter-widgets/controls",
          "model_name": "HBoxModel",
          "model_module_version": "1.5.0",
          "state": {
            "_dom_classes": [],
            "_model_module": "@jupyter-widgets/controls",
            "_model_module_version": "1.5.0",
            "_model_name": "HBoxModel",
            "_view_count": null,
            "_view_module": "@jupyter-widgets/controls",
            "_view_module_version": "1.5.0",
            "_view_name": "HBoxView",
            "box_style": "",
            "children": [
              "IPY_MODEL_e07430c36b374a15afabb3e093b078ae",
              "IPY_MODEL_75008688038f4fe7bbaaa6ccf361a404",
              "IPY_MODEL_a20627ea469149f8b134b58c85797125"
            ],
            "layout": "IPY_MODEL_046df6150caf4eaebc0698cdf4af020c"
          }
        },
        "e07430c36b374a15afabb3e093b078ae": {
          "model_module": "@jupyter-widgets/controls",
          "model_name": "HTMLModel",
          "model_module_version": "1.5.0",
          "state": {
            "_dom_classes": [],
            "_model_module": "@jupyter-widgets/controls",
            "_model_module_version": "1.5.0",
            "_model_name": "HTMLModel",
            "_view_count": null,
            "_view_module": "@jupyter-widgets/controls",
            "_view_module_version": "1.5.0",
            "_view_name": "HTMLView",
            "description": "",
            "description_tooltip": null,
            "layout": "IPY_MODEL_89203abaa590458295e79ddb5120ead4",
            "placeholder": "​",
            "style": "IPY_MODEL_4522458e890b4fcc93f3ad9882e47349",
            "value": "vocab.txt: 100%"
          }
        },
        "75008688038f4fe7bbaaa6ccf361a404": {
          "model_module": "@jupyter-widgets/controls",
          "model_name": "FloatProgressModel",
          "model_module_version": "1.5.0",
          "state": {
            "_dom_classes": [],
            "_model_module": "@jupyter-widgets/controls",
            "_model_module_version": "1.5.0",
            "_model_name": "FloatProgressModel",
            "_view_count": null,
            "_view_module": "@jupyter-widgets/controls",
            "_view_module_version": "1.5.0",
            "_view_name": "ProgressView",
            "bar_style": "success",
            "description": "",
            "description_tooltip": null,
            "layout": "IPY_MODEL_b0996399a6e64dc6a8d2f1abdb3919f6",
            "max": 213450,
            "min": 0,
            "orientation": "horizontal",
            "style": "IPY_MODEL_02ea85a79e1543028ffa9675ce48ed0b",
            "value": 213450
          }
        },
        "a20627ea469149f8b134b58c85797125": {
          "model_module": "@jupyter-widgets/controls",
          "model_name": "HTMLModel",
          "model_module_version": "1.5.0",
          "state": {
            "_dom_classes": [],
            "_model_module": "@jupyter-widgets/controls",
            "_model_module_version": "1.5.0",
            "_model_name": "HTMLModel",
            "_view_count": null,
            "_view_module": "@jupyter-widgets/controls",
            "_view_module_version": "1.5.0",
            "_view_name": "HTMLView",
            "description": "",
            "description_tooltip": null,
            "layout": "IPY_MODEL_3d1c249255fa4df79b838e0b00a8613b",
            "placeholder": "​",
            "style": "IPY_MODEL_0b38bb80486d41788cb8d1a2d67c663a",
            "value": " 213k/213k [00:00&lt;00:00, 15.1MB/s]"
          }
        },
        "046df6150caf4eaebc0698cdf4af020c": {
          "model_module": "@jupyter-widgets/base",
          "model_name": "LayoutModel",
          "model_module_version": "1.2.0",
          "state": {
            "_model_module": "@jupyter-widgets/base",
            "_model_module_version": "1.2.0",
            "_model_name": "LayoutModel",
            "_view_count": null,
            "_view_module": "@jupyter-widgets/base",
            "_view_module_version": "1.2.0",
            "_view_name": "LayoutView",
            "align_content": null,
            "align_items": null,
            "align_self": null,
            "border": null,
            "bottom": null,
            "display": null,
            "flex": null,
            "flex_flow": null,
            "grid_area": null,
            "grid_auto_columns": null,
            "grid_auto_flow": null,
            "grid_auto_rows": null,
            "grid_column": null,
            "grid_gap": null,
            "grid_row": null,
            "grid_template_areas": null,
            "grid_template_columns": null,
            "grid_template_rows": null,
            "height": null,
            "justify_content": null,
            "justify_items": null,
            "left": null,
            "margin": null,
            "max_height": null,
            "max_width": null,
            "min_height": null,
            "min_width": null,
            "object_fit": null,
            "object_position": null,
            "order": null,
            "overflow": null,
            "overflow_x": null,
            "overflow_y": null,
            "padding": null,
            "right": null,
            "top": null,
            "visibility": null,
            "width": null
          }
        },
        "89203abaa590458295e79ddb5120ead4": {
          "model_module": "@jupyter-widgets/base",
          "model_name": "LayoutModel",
          "model_module_version": "1.2.0",
          "state": {
            "_model_module": "@jupyter-widgets/base",
            "_model_module_version": "1.2.0",
            "_model_name": "LayoutModel",
            "_view_count": null,
            "_view_module": "@jupyter-widgets/base",
            "_view_module_version": "1.2.0",
            "_view_name": "LayoutView",
            "align_content": null,
            "align_items": null,
            "align_self": null,
            "border": null,
            "bottom": null,
            "display": null,
            "flex": null,
            "flex_flow": null,
            "grid_area": null,
            "grid_auto_columns": null,
            "grid_auto_flow": null,
            "grid_auto_rows": null,
            "grid_column": null,
            "grid_gap": null,
            "grid_row": null,
            "grid_template_areas": null,
            "grid_template_columns": null,
            "grid_template_rows": null,
            "height": null,
            "justify_content": null,
            "justify_items": null,
            "left": null,
            "margin": null,
            "max_height": null,
            "max_width": null,
            "min_height": null,
            "min_width": null,
            "object_fit": null,
            "object_position": null,
            "order": null,
            "overflow": null,
            "overflow_x": null,
            "overflow_y": null,
            "padding": null,
            "right": null,
            "top": null,
            "visibility": null,
            "width": null
          }
        },
        "4522458e890b4fcc93f3ad9882e47349": {
          "model_module": "@jupyter-widgets/controls",
          "model_name": "DescriptionStyleModel",
          "model_module_version": "1.5.0",
          "state": {
            "_model_module": "@jupyter-widgets/controls",
            "_model_module_version": "1.5.0",
            "_model_name": "DescriptionStyleModel",
            "_view_count": null,
            "_view_module": "@jupyter-widgets/base",
            "_view_module_version": "1.2.0",
            "_view_name": "StyleView",
            "description_width": ""
          }
        },
        "b0996399a6e64dc6a8d2f1abdb3919f6": {
          "model_module": "@jupyter-widgets/base",
          "model_name": "LayoutModel",
          "model_module_version": "1.2.0",
          "state": {
            "_model_module": "@jupyter-widgets/base",
            "_model_module_version": "1.2.0",
            "_model_name": "LayoutModel",
            "_view_count": null,
            "_view_module": "@jupyter-widgets/base",
            "_view_module_version": "1.2.0",
            "_view_name": "LayoutView",
            "align_content": null,
            "align_items": null,
            "align_self": null,
            "border": null,
            "bottom": null,
            "display": null,
            "flex": null,
            "flex_flow": null,
            "grid_area": null,
            "grid_auto_columns": null,
            "grid_auto_flow": null,
            "grid_auto_rows": null,
            "grid_column": null,
            "grid_gap": null,
            "grid_row": null,
            "grid_template_areas": null,
            "grid_template_columns": null,
            "grid_template_rows": null,
            "height": null,
            "justify_content": null,
            "justify_items": null,
            "left": null,
            "margin": null,
            "max_height": null,
            "max_width": null,
            "min_height": null,
            "min_width": null,
            "object_fit": null,
            "object_position": null,
            "order": null,
            "overflow": null,
            "overflow_x": null,
            "overflow_y": null,
            "padding": null,
            "right": null,
            "top": null,
            "visibility": null,
            "width": null
          }
        },
        "02ea85a79e1543028ffa9675ce48ed0b": {
          "model_module": "@jupyter-widgets/controls",
          "model_name": "ProgressStyleModel",
          "model_module_version": "1.5.0",
          "state": {
            "_model_module": "@jupyter-widgets/controls",
            "_model_module_version": "1.5.0",
            "_model_name": "ProgressStyleModel",
            "_view_count": null,
            "_view_module": "@jupyter-widgets/base",
            "_view_module_version": "1.2.0",
            "_view_name": "StyleView",
            "bar_color": null,
            "description_width": ""
          }
        },
        "3d1c249255fa4df79b838e0b00a8613b": {
          "model_module": "@jupyter-widgets/base",
          "model_name": "LayoutModel",
          "model_module_version": "1.2.0",
          "state": {
            "_model_module": "@jupyter-widgets/base",
            "_model_module_version": "1.2.0",
            "_model_name": "LayoutModel",
            "_view_count": null,
            "_view_module": "@jupyter-widgets/base",
            "_view_module_version": "1.2.0",
            "_view_name": "LayoutView",
            "align_content": null,
            "align_items": null,
            "align_self": null,
            "border": null,
            "bottom": null,
            "display": null,
            "flex": null,
            "flex_flow": null,
            "grid_area": null,
            "grid_auto_columns": null,
            "grid_auto_flow": null,
            "grid_auto_rows": null,
            "grid_column": null,
            "grid_gap": null,
            "grid_row": null,
            "grid_template_areas": null,
            "grid_template_columns": null,
            "grid_template_rows": null,
            "height": null,
            "justify_content": null,
            "justify_items": null,
            "left": null,
            "margin": null,
            "max_height": null,
            "max_width": null,
            "min_height": null,
            "min_width": null,
            "object_fit": null,
            "object_position": null,
            "order": null,
            "overflow": null,
            "overflow_x": null,
            "overflow_y": null,
            "padding": null,
            "right": null,
            "top": null,
            "visibility": null,
            "width": null
          }
        },
        "0b38bb80486d41788cb8d1a2d67c663a": {
          "model_module": "@jupyter-widgets/controls",
          "model_name": "DescriptionStyleModel",
          "model_module_version": "1.5.0",
          "state": {
            "_model_module": "@jupyter-widgets/controls",
            "_model_module_version": "1.5.0",
            "_model_name": "DescriptionStyleModel",
            "_view_count": null,
            "_view_module": "@jupyter-widgets/base",
            "_view_module_version": "1.2.0",
            "_view_name": "StyleView",
            "description_width": ""
          }
        },
        "7d15dc5f0d424b7d87359867062862d3": {
          "model_module": "@jupyter-widgets/controls",
          "model_name": "HBoxModel",
          "model_module_version": "1.5.0",
          "state": {
            "_dom_classes": [],
            "_model_module": "@jupyter-widgets/controls",
            "_model_module_version": "1.5.0",
            "_model_name": "HBoxModel",
            "_view_count": null,
            "_view_module": "@jupyter-widgets/controls",
            "_view_module_version": "1.5.0",
            "_view_name": "HBoxView",
            "box_style": "",
            "children": [
              "IPY_MODEL_fe1b59873dbc4f91a808d3c282950cf9",
              "IPY_MODEL_1548ead24da14639a5339e3a107f6a26",
              "IPY_MODEL_0eff4463216c4336910ce65bd3aece88"
            ],
            "layout": "IPY_MODEL_a31fe87d4d05469f9f403557e7b79971"
          }
        },
        "fe1b59873dbc4f91a808d3c282950cf9": {
          "model_module": "@jupyter-widgets/controls",
          "model_name": "HTMLModel",
          "model_module_version": "1.5.0",
          "state": {
            "_dom_classes": [],
            "_model_module": "@jupyter-widgets/controls",
            "_model_module_version": "1.5.0",
            "_model_name": "HTMLModel",
            "_view_count": null,
            "_view_module": "@jupyter-widgets/controls",
            "_view_module_version": "1.5.0",
            "_view_name": "HTMLView",
            "description": "",
            "description_tooltip": null,
            "layout": "IPY_MODEL_3c138805759e4bc4a2dd1ffa5d63ab42",
            "placeholder": "​",
            "style": "IPY_MODEL_e5ff85d56e03407ea04c0508f1ae58d7",
            "value": "pytorch_model.bin: 100%"
          }
        },
        "1548ead24da14639a5339e3a107f6a26": {
          "model_module": "@jupyter-widgets/controls",
          "model_name": "FloatProgressModel",
          "model_module_version": "1.5.0",
          "state": {
            "_dom_classes": [],
            "_model_module": "@jupyter-widgets/controls",
            "_model_module_version": "1.5.0",
            "_model_name": "FloatProgressModel",
            "_view_count": null,
            "_view_module": "@jupyter-widgets/controls",
            "_view_module_version": "1.5.0",
            "_view_name": "ProgressView",
            "bar_style": "success",
            "description": "",
            "description_tooltip": null,
            "layout": "IPY_MODEL_e46880d4d2d1493fa31faa2f88a3c074",
            "max": 435780550,
            "min": 0,
            "orientation": "horizontal",
            "style": "IPY_MODEL_985d002238b445a990534ed72e35421e",
            "value": 435780550
          }
        },
        "0eff4463216c4336910ce65bd3aece88": {
          "model_module": "@jupyter-widgets/controls",
          "model_name": "HTMLModel",
          "model_module_version": "1.5.0",
          "state": {
            "_dom_classes": [],
            "_model_module": "@jupyter-widgets/controls",
            "_model_module_version": "1.5.0",
            "_model_name": "HTMLModel",
            "_view_count": null,
            "_view_module": "@jupyter-widgets/controls",
            "_view_module_version": "1.5.0",
            "_view_name": "HTMLView",
            "description": "",
            "description_tooltip": null,
            "layout": "IPY_MODEL_74b828cd5ea34dcea6ac63e5c0ff3865",
            "placeholder": "​",
            "style": "IPY_MODEL_c1d7cdeeb2da4b40b8bb7b37b21fdfb8",
            "value": " 436M/436M [00:01&lt;00:00, 470MB/s]"
          }
        },
        "a31fe87d4d05469f9f403557e7b79971": {
          "model_module": "@jupyter-widgets/base",
          "model_name": "LayoutModel",
          "model_module_version": "1.2.0",
          "state": {
            "_model_module": "@jupyter-widgets/base",
            "_model_module_version": "1.2.0",
            "_model_name": "LayoutModel",
            "_view_count": null,
            "_view_module": "@jupyter-widgets/base",
            "_view_module_version": "1.2.0",
            "_view_name": "LayoutView",
            "align_content": null,
            "align_items": null,
            "align_self": null,
            "border": null,
            "bottom": null,
            "display": null,
            "flex": null,
            "flex_flow": null,
            "grid_area": null,
            "grid_auto_columns": null,
            "grid_auto_flow": null,
            "grid_auto_rows": null,
            "grid_column": null,
            "grid_gap": null,
            "grid_row": null,
            "grid_template_areas": null,
            "grid_template_columns": null,
            "grid_template_rows": null,
            "height": null,
            "justify_content": null,
            "justify_items": null,
            "left": null,
            "margin": null,
            "max_height": null,
            "max_width": null,
            "min_height": null,
            "min_width": null,
            "object_fit": null,
            "object_position": null,
            "order": null,
            "overflow": null,
            "overflow_x": null,
            "overflow_y": null,
            "padding": null,
            "right": null,
            "top": null,
            "visibility": null,
            "width": null
          }
        },
        "3c138805759e4bc4a2dd1ffa5d63ab42": {
          "model_module": "@jupyter-widgets/base",
          "model_name": "LayoutModel",
          "model_module_version": "1.2.0",
          "state": {
            "_model_module": "@jupyter-widgets/base",
            "_model_module_version": "1.2.0",
            "_model_name": "LayoutModel",
            "_view_count": null,
            "_view_module": "@jupyter-widgets/base",
            "_view_module_version": "1.2.0",
            "_view_name": "LayoutView",
            "align_content": null,
            "align_items": null,
            "align_self": null,
            "border": null,
            "bottom": null,
            "display": null,
            "flex": null,
            "flex_flow": null,
            "grid_area": null,
            "grid_auto_columns": null,
            "grid_auto_flow": null,
            "grid_auto_rows": null,
            "grid_column": null,
            "grid_gap": null,
            "grid_row": null,
            "grid_template_areas": null,
            "grid_template_columns": null,
            "grid_template_rows": null,
            "height": null,
            "justify_content": null,
            "justify_items": null,
            "left": null,
            "margin": null,
            "max_height": null,
            "max_width": null,
            "min_height": null,
            "min_width": null,
            "object_fit": null,
            "object_position": null,
            "order": null,
            "overflow": null,
            "overflow_x": null,
            "overflow_y": null,
            "padding": null,
            "right": null,
            "top": null,
            "visibility": null,
            "width": null
          }
        },
        "e5ff85d56e03407ea04c0508f1ae58d7": {
          "model_module": "@jupyter-widgets/controls",
          "model_name": "DescriptionStyleModel",
          "model_module_version": "1.5.0",
          "state": {
            "_model_module": "@jupyter-widgets/controls",
            "_model_module_version": "1.5.0",
            "_model_name": "DescriptionStyleModel",
            "_view_count": null,
            "_view_module": "@jupyter-widgets/base",
            "_view_module_version": "1.2.0",
            "_view_name": "StyleView",
            "description_width": ""
          }
        },
        "e46880d4d2d1493fa31faa2f88a3c074": {
          "model_module": "@jupyter-widgets/base",
          "model_name": "LayoutModel",
          "model_module_version": "1.2.0",
          "state": {
            "_model_module": "@jupyter-widgets/base",
            "_model_module_version": "1.2.0",
            "_model_name": "LayoutModel",
            "_view_count": null,
            "_view_module": "@jupyter-widgets/base",
            "_view_module_version": "1.2.0",
            "_view_name": "LayoutView",
            "align_content": null,
            "align_items": null,
            "align_self": null,
            "border": null,
            "bottom": null,
            "display": null,
            "flex": null,
            "flex_flow": null,
            "grid_area": null,
            "grid_auto_columns": null,
            "grid_auto_flow": null,
            "grid_auto_rows": null,
            "grid_column": null,
            "grid_gap": null,
            "grid_row": null,
            "grid_template_areas": null,
            "grid_template_columns": null,
            "grid_template_rows": null,
            "height": null,
            "justify_content": null,
            "justify_items": null,
            "left": null,
            "margin": null,
            "max_height": null,
            "max_width": null,
            "min_height": null,
            "min_width": null,
            "object_fit": null,
            "object_position": null,
            "order": null,
            "overflow": null,
            "overflow_x": null,
            "overflow_y": null,
            "padding": null,
            "right": null,
            "top": null,
            "visibility": null,
            "width": null
          }
        },
        "985d002238b445a990534ed72e35421e": {
          "model_module": "@jupyter-widgets/controls",
          "model_name": "ProgressStyleModel",
          "model_module_version": "1.5.0",
          "state": {
            "_model_module": "@jupyter-widgets/controls",
            "_model_module_version": "1.5.0",
            "_model_name": "ProgressStyleModel",
            "_view_count": null,
            "_view_module": "@jupyter-widgets/base",
            "_view_module_version": "1.2.0",
            "_view_name": "StyleView",
            "bar_color": null,
            "description_width": ""
          }
        },
        "74b828cd5ea34dcea6ac63e5c0ff3865": {
          "model_module": "@jupyter-widgets/base",
          "model_name": "LayoutModel",
          "model_module_version": "1.2.0",
          "state": {
            "_model_module": "@jupyter-widgets/base",
            "_model_module_version": "1.2.0",
            "_model_name": "LayoutModel",
            "_view_count": null,
            "_view_module": "@jupyter-widgets/base",
            "_view_module_version": "1.2.0",
            "_view_name": "LayoutView",
            "align_content": null,
            "align_items": null,
            "align_self": null,
            "border": null,
            "bottom": null,
            "display": null,
            "flex": null,
            "flex_flow": null,
            "grid_area": null,
            "grid_auto_columns": null,
            "grid_auto_flow": null,
            "grid_auto_rows": null,
            "grid_column": null,
            "grid_gap": null,
            "grid_row": null,
            "grid_template_areas": null,
            "grid_template_columns": null,
            "grid_template_rows": null,
            "height": null,
            "justify_content": null,
            "justify_items": null,
            "left": null,
            "margin": null,
            "max_height": null,
            "max_width": null,
            "min_height": null,
            "min_width": null,
            "object_fit": null,
            "object_position": null,
            "order": null,
            "overflow": null,
            "overflow_x": null,
            "overflow_y": null,
            "padding": null,
            "right": null,
            "top": null,
            "visibility": null,
            "width": null
          }
        },
        "c1d7cdeeb2da4b40b8bb7b37b21fdfb8": {
          "model_module": "@jupyter-widgets/controls",
          "model_name": "DescriptionStyleModel",
          "model_module_version": "1.5.0",
          "state": {
            "_model_module": "@jupyter-widgets/controls",
            "_model_module_version": "1.5.0",
            "_model_name": "DescriptionStyleModel",
            "_view_count": null,
            "_view_module": "@jupyter-widgets/base",
            "_view_module_version": "1.2.0",
            "_view_name": "StyleView",
            "description_width": ""
          }
        }
      }
    }
  },
  "nbformat": 4,
  "nbformat_minor": 0
}